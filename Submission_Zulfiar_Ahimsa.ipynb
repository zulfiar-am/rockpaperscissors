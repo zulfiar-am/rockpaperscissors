{
  "nbformat": 4,
  "nbformat_minor": 0,
  "metadata": {
    "colab": {
      "name": "Submission_Zulfiar_Ahimsa.ipynb",
      "provenance": [],
      "collapsed_sections": []
    },
    "kernelspec": {
      "name": "python3",
      "display_name": "Python 3"
    }
  },
  "cells": [
    {
      "cell_type": "code",
      "metadata": {
        "id": "uQM90Ji5ab2o",
        "colab_type": "code",
        "colab": {}
      },
      "source": [
        "# mengimpor library yang dibutuhkan\n",
        "import tensorflow as tf\n",
        "from tensorflow.keras.optimizers import RMSprop\n",
        "from tensorflow.keras.preprocessing.image import ImageDataGenerator"
      ],
      "execution_count": 160,
      "outputs": []
    },
    {
      "cell_type": "code",
      "metadata": {
        "id": "pe9seBNt3QjL",
        "colab_type": "code",
        "colab": {
          "base_uri": "https://localhost:8080/",
          "height": 34
        },
        "outputId": "d200e454-c00e-4621-91fa-7ed272cb473b"
      },
      "source": [
        "# cek versi TensorFlow\n",
        "print(tf.__version__)"
      ],
      "execution_count": 161,
      "outputs": [
        {
          "output_type": "stream",
          "text": [
            "2.2.0\n"
          ],
          "name": "stdout"
        }
      ]
    },
    {
      "cell_type": "code",
      "metadata": {
        "id": "Rw5ib1NIazKC",
        "colab_type": "code",
        "colab": {
          "base_uri": "https://localhost:8080/",
          "height": 202
        },
        "outputId": "9bc5f595-db4e-47a5-9963-0dd1c652aab6"
      },
      "source": [
        "# mempersiapkan data\n",
        "!wget --no-check-certificate \\\n",
        "  https://dicodingacademy.blob.core.windows.net/picodiploma/ml_pemula_academy/rockpaperscissors.zip \\\n",
        "  -O /tmp/rockpaperscissors.zip"
      ],
      "execution_count": 162,
      "outputs": [
        {
          "output_type": "stream",
          "text": [
            "--2020-06-17 15:30:30--  https://dicodingacademy.blob.core.windows.net/picodiploma/ml_pemula_academy/rockpaperscissors.zip\n",
            "Resolving dicodingacademy.blob.core.windows.net (dicodingacademy.blob.core.windows.net)... 52.239.197.36\n",
            "Connecting to dicodingacademy.blob.core.windows.net (dicodingacademy.blob.core.windows.net)|52.239.197.36|:443... connected.\n",
            "HTTP request sent, awaiting response... 200 OK\n",
            "Length: 322873683 (308M) [application/zip]\n",
            "Saving to: ‘/tmp/rockpaperscissors.zip’\n",
            "\n",
            "/tmp/rockpapersciss 100%[===================>] 307.92M  5.90MB/s    in 57s     \n",
            "\n",
            "2020-06-17 15:31:28 (5.40 MB/s) - ‘/tmp/rockpaperscissors.zip’ saved [322873683/322873683]\n",
            "\n"
          ],
          "name": "stdout"
        }
      ]
    },
    {
      "cell_type": "code",
      "metadata": {
        "id": "XxOOS5uVa78h",
        "colab_type": "code",
        "colab": {
          "base_uri": "https://localhost:8080/",
          "height": 34
        },
        "outputId": "dc883f5a-d513-42eb-94a7-3c61793314e5"
      },
      "source": [
        "pip install split_folders"
      ],
      "execution_count": 168,
      "outputs": [
        {
          "output_type": "stream",
          "text": [
            "Requirement already satisfied: split_folders in /usr/local/lib/python3.6/dist-packages (0.3.1)\n"
          ],
          "name": "stdout"
        }
      ]
    },
    {
      "cell_type": "code",
      "metadata": {
        "id": "4KjpkVO-W9yT",
        "colab_type": "code",
        "colab": {}
      },
      "source": [
        "# mengekstrak data yang telah diunduh\n",
        "import zipfile,os\n",
        "local_zip ='/tmp/rockpaperscissors.zip'\n",
        "zip_ref = zipfile.ZipFile(local_zip, 'r')\n",
        "zip_ref.extractall('/tmp')\n",
        "zip_ref.close()"
      ],
      "execution_count": 169,
      "outputs": []
    },
    {
      "cell_type": "code",
      "metadata": {
        "id": "AQq5bZdZXXPN",
        "colab_type": "code",
        "colab": {
          "base_uri": "https://localhost:8080/",
          "height": 34
        },
        "outputId": "eec28722-618b-40e2-ee8c-1ef6d2e1e1c8"
      },
      "source": [
        "# mendefinisikan direktori menggunakan split_folders\n",
        "split_folders.ratio('/tmp/rockpaperscissors/rps-cv-images', output=\"/tmp/images\", seed=1337, ratio=(.8, .2))\n",
        "base_dir='/tmp/images'\n",
        "train_dir = os.path.join(base_dir, 'train')\n",
        "validation_dir = os.path.join(base_dir, 'val')"
      ],
      "execution_count": 170,
      "outputs": [
        {
          "output_type": "stream",
          "text": [
            "Copying files: 2188 files [00:00, 3686.18 files/s]\n"
          ],
          "name": "stderr"
        }
      ]
    },
    {
      "cell_type": "code",
      "metadata": {
        "id": "pQobFmn9a5kY",
        "colab_type": "code",
        "colab": {}
      },
      "source": [
        "# menciptakan data-data baru dari data yang telah ada\n",
        "train_datagen = ImageDataGenerator(\n",
        "                    validation_split=0.2,\n",
        "                    rescale=1./255,\n",
        "                    rotation_range=20,\n",
        "                    horizontal_flip=True,\n",
        "                    shear_range = 0.2,\n",
        "                    fill_mode = 'nearest')\n",
        "\n",
        "test_datagen = ImageDataGenerator(\n",
        "                    validation_split=0.2,\n",
        "                    rescale=1./255,\n",
        "                    rotation_range=20,\n",
        "                    horizontal_flip=True,\n",
        "                    shear_range = 0.2,\n",
        "                    fill_mode = 'nearest')"
      ],
      "execution_count": 171,
      "outputs": []
    },
    {
      "cell_type": "code",
      "metadata": {
        "id": "Qbtk0td2bGQo",
        "colab_type": "code",
        "colab": {
          "base_uri": "https://localhost:8080/",
          "height": 50
        },
        "outputId": "ef041530-a3ed-4f26-ce28-f0e662bb4a9f"
      },
      "source": [
        "# mempersiapkan data latih yang akan dipelajari oleh model\n",
        "train_generator = train_datagen.flow_from_directory(\n",
        "        train_dir,\n",
        "        target_size=(150, 150),\n",
        "        batch_size=3,\n",
        "        class_mode='sparse')\n",
        "\n",
        "validation_generator = test_datagen.flow_from_directory(\n",
        "        validation_dir,\n",
        "        target_size=(150, 150),\n",
        "        batch_size=3,\n",
        "        class_mode='sparse')"
      ],
      "execution_count": 172,
      "outputs": [
        {
          "output_type": "stream",
          "text": [
            "Found 1749 images belonging to 3 classes.\n",
            "Found 439 images belonging to 3 classes.\n"
          ],
          "name": "stdout"
        }
      ]
    },
    {
      "cell_type": "code",
      "metadata": {
        "id": "t2krUnUvbSaS",
        "colab_type": "code",
        "colab": {}
      },
      "source": [
        "# membangun Convolutional Neural Network\n",
        "model = tf.keras.models.Sequential([\n",
        "    tf.keras.layers.Conv2D(32, (3,3), activation='relu', input_shape=(150, 150, 3)),\n",
        "    tf.keras.layers.MaxPooling2D(2, 2),\n",
        "    tf.keras.layers.Conv2D(64, (3,3), activation='relu'),\n",
        "    tf.keras.layers.MaxPooling2D(2,2),\n",
        "    tf.keras.layers.Conv2D(128, (3,3), activation='relu'),\n",
        "    tf.keras.layers.MaxPooling2D(2,2),\n",
        "    tf.keras.layers.Conv2D(256, (3,3), activation='relu'),\n",
        "    tf.keras.layers.MaxPooling2D(2,2),\n",
        "    tf.keras.layers.Flatten(),\n",
        "    tf.keras.layers.Dense(512, activation='relu'),\n",
        "    tf.keras.layers.Dense(3, activation='softmax')\n",
        "])"
      ],
      "execution_count": 173,
      "outputs": []
    },
    {
      "cell_type": "code",
      "metadata": {
        "id": "w6wnvzKHbUjc",
        "colab_type": "code",
        "colab": {}
      },
      "source": [
        "# memanggil fungsi compile pada objek model, dan menentukan loss function serta optimizer.\n",
        "model.compile(loss='sparse_categorical_crossentropy',\n",
        "              optimizer=tf.optimizers.Adam(),\n",
        "              metrics=['accuracy'])"
      ],
      "execution_count": 174,
      "outputs": []
    },
    {
      "cell_type": "code",
      "metadata": {
        "id": "6eicwg4cbWle",
        "colab_type": "code",
        "colab": {
          "base_uri": "https://localhost:8080/",
          "height": 1000
        },
        "outputId": "f4cc3fb3-d338-4d11-95d8-16f8b69b8026"
      },
      "source": [
        "# melatih model menggunakan metode fit dengan menggunakan image data generator\n",
        "model.fit(\n",
        "      train_generator,\n",
        "      steps_per_epoch=25,\n",
        "      epochs=50,\n",
        "      validation_data=validation_generator,\n",
        "      validation_steps=5,\n",
        "      verbose=2)"
      ],
      "execution_count": 175,
      "outputs": [
        {
          "output_type": "stream",
          "text": [
            "Epoch 1/50\n",
            "25/25 - 6s - loss: 1.3037 - accuracy: 0.3867 - val_loss: 1.1022 - val_accuracy: 0.2000\n",
            "Epoch 2/50\n",
            "25/25 - 6s - loss: 1.0987 - accuracy: 0.3733 - val_loss: 1.1060 - val_accuracy: 0.1333\n",
            "Epoch 3/50\n",
            "25/25 - 6s - loss: 1.1015 - accuracy: 0.3067 - val_loss: 1.0930 - val_accuracy: 0.4667\n",
            "Epoch 4/50\n",
            "25/25 - 6s - loss: 1.0807 - accuracy: 0.4667 - val_loss: 1.1212 - val_accuracy: 0.2667\n",
            "Epoch 5/50\n",
            "25/25 - 6s - loss: 1.0879 - accuracy: 0.4933 - val_loss: 1.0605 - val_accuracy: 0.4667\n",
            "Epoch 6/50\n",
            "25/25 - 6s - loss: 1.1002 - accuracy: 0.3733 - val_loss: 1.0745 - val_accuracy: 0.5333\n",
            "Epoch 7/50\n",
            "25/25 - 6s - loss: 1.0171 - accuracy: 0.5067 - val_loss: 0.8629 - val_accuracy: 0.6000\n",
            "Epoch 8/50\n",
            "25/25 - 6s - loss: 0.8184 - accuracy: 0.6133 - val_loss: 0.8493 - val_accuracy: 0.4667\n",
            "Epoch 9/50\n",
            "25/25 - 6s - loss: 0.6346 - accuracy: 0.7333 - val_loss: 0.5275 - val_accuracy: 0.8000\n",
            "Epoch 10/50\n",
            "25/25 - 6s - loss: 0.6119 - accuracy: 0.7333 - val_loss: 0.9064 - val_accuracy: 0.6000\n",
            "Epoch 11/50\n",
            "25/25 - 6s - loss: 0.4882 - accuracy: 0.8400 - val_loss: 0.7214 - val_accuracy: 0.6667\n",
            "Epoch 12/50\n",
            "25/25 - 6s - loss: 0.4111 - accuracy: 0.8400 - val_loss: 0.7251 - val_accuracy: 0.7333\n",
            "Epoch 13/50\n",
            "25/25 - 6s - loss: 0.3374 - accuracy: 0.8533 - val_loss: 0.3107 - val_accuracy: 0.9333\n",
            "Epoch 14/50\n",
            "25/25 - 6s - loss: 0.3720 - accuracy: 0.9067 - val_loss: 0.1693 - val_accuracy: 0.9333\n",
            "Epoch 15/50\n",
            "25/25 - 6s - loss: 0.4194 - accuracy: 0.8933 - val_loss: 0.4157 - val_accuracy: 0.8000\n",
            "Epoch 16/50\n",
            "25/25 - 6s - loss: 0.4320 - accuracy: 0.8800 - val_loss: 0.3967 - val_accuracy: 0.8667\n",
            "Epoch 17/50\n",
            "25/25 - 6s - loss: 0.4628 - accuracy: 0.8133 - val_loss: 0.5586 - val_accuracy: 0.7333\n",
            "Epoch 18/50\n",
            "25/25 - 6s - loss: 0.2548 - accuracy: 0.9467 - val_loss: 0.0452 - val_accuracy: 1.0000\n",
            "Epoch 19/50\n",
            "25/25 - 6s - loss: 0.3495 - accuracy: 0.8933 - val_loss: 0.6422 - val_accuracy: 0.7333\n",
            "Epoch 20/50\n",
            "25/25 - 6s - loss: 0.3618 - accuracy: 0.8800 - val_loss: 0.2426 - val_accuracy: 0.9333\n",
            "Epoch 21/50\n",
            "25/25 - 6s - loss: 0.3358 - accuracy: 0.8667 - val_loss: 0.3358 - val_accuracy: 0.8667\n",
            "Epoch 22/50\n",
            "25/25 - 6s - loss: 0.3901 - accuracy: 0.8667 - val_loss: 0.4632 - val_accuracy: 0.8000\n",
            "Epoch 23/50\n",
            "25/25 - 6s - loss: 0.2788 - accuracy: 0.9067 - val_loss: 0.5310 - val_accuracy: 0.8000\n",
            "Epoch 24/50\n",
            "25/25 - 6s - loss: 0.3253 - accuracy: 0.9067 - val_loss: 0.4192 - val_accuracy: 0.8667\n",
            "Epoch 25/50\n",
            "25/25 - 6s - loss: 0.2558 - accuracy: 0.9067 - val_loss: 0.1644 - val_accuracy: 0.9333\n",
            "Epoch 26/50\n",
            "25/25 - 6s - loss: 0.2865 - accuracy: 0.8933 - val_loss: 0.2654 - val_accuracy: 0.8667\n",
            "Epoch 27/50\n",
            "25/25 - 6s - loss: 0.1558 - accuracy: 0.9467 - val_loss: 0.8353 - val_accuracy: 0.7333\n",
            "Epoch 28/50\n",
            "25/25 - 6s - loss: 0.1610 - accuracy: 0.9333 - val_loss: 0.2040 - val_accuracy: 0.8667\n",
            "Epoch 29/50\n",
            "25/25 - 6s - loss: 0.1829 - accuracy: 0.9600 - val_loss: 0.8097 - val_accuracy: 0.8667\n",
            "Epoch 30/50\n",
            "25/25 - 6s - loss: 0.2393 - accuracy: 0.9200 - val_loss: 0.3036 - val_accuracy: 0.8000\n",
            "Epoch 31/50\n",
            "25/25 - 6s - loss: 0.3057 - accuracy: 0.9467 - val_loss: 0.0857 - val_accuracy: 1.0000\n",
            "Epoch 32/50\n",
            "25/25 - 6s - loss: 0.0651 - accuracy: 1.0000 - val_loss: 0.2864 - val_accuracy: 0.8667\n",
            "Epoch 33/50\n",
            "25/25 - 6s - loss: 0.1564 - accuracy: 0.9467 - val_loss: 0.4916 - val_accuracy: 0.8667\n",
            "Epoch 34/50\n",
            "25/25 - 6s - loss: 0.2758 - accuracy: 0.9200 - val_loss: 0.4213 - val_accuracy: 0.9333\n",
            "Epoch 35/50\n",
            "25/25 - 6s - loss: 0.1781 - accuracy: 0.9333 - val_loss: 0.2152 - val_accuracy: 0.9333\n",
            "Epoch 36/50\n",
            "25/25 - 6s - loss: 0.2390 - accuracy: 0.9200 - val_loss: 0.0182 - val_accuracy: 1.0000\n",
            "Epoch 37/50\n",
            "25/25 - 6s - loss: 0.2773 - accuracy: 0.9067 - val_loss: 0.3085 - val_accuracy: 0.8000\n",
            "Epoch 38/50\n",
            "25/25 - 6s - loss: 0.1768 - accuracy: 0.9333 - val_loss: 0.0272 - val_accuracy: 1.0000\n",
            "Epoch 39/50\n",
            "25/25 - 6s - loss: 0.1759 - accuracy: 0.9467 - val_loss: 0.3449 - val_accuracy: 0.8667\n",
            "Epoch 40/50\n",
            "25/25 - 6s - loss: 0.2256 - accuracy: 0.9467 - val_loss: 0.2093 - val_accuracy: 0.9333\n",
            "Epoch 41/50\n",
            "25/25 - 6s - loss: 0.1619 - accuracy: 0.9333 - val_loss: 0.1491 - val_accuracy: 0.9333\n",
            "Epoch 42/50\n",
            "25/25 - 6s - loss: 0.1742 - accuracy: 0.9467 - val_loss: 0.1029 - val_accuracy: 0.9333\n",
            "Epoch 43/50\n",
            "25/25 - 6s - loss: 0.2849 - accuracy: 0.8800 - val_loss: 0.3558 - val_accuracy: 0.8667\n",
            "Epoch 44/50\n",
            "25/25 - 6s - loss: 0.1727 - accuracy: 0.9467 - val_loss: 0.1019 - val_accuracy: 0.9333\n",
            "Epoch 45/50\n",
            "25/25 - 6s - loss: 0.0964 - accuracy: 0.9467 - val_loss: 0.1358 - val_accuracy: 1.0000\n",
            "Epoch 46/50\n",
            "25/25 - 6s - loss: 0.2978 - accuracy: 0.8933 - val_loss: 0.2483 - val_accuracy: 0.9333\n",
            "Epoch 47/50\n",
            "25/25 - 6s - loss: 0.1847 - accuracy: 0.9467 - val_loss: 0.6261 - val_accuracy: 0.8667\n",
            "Epoch 48/50\n",
            "25/25 - 6s - loss: 0.2115 - accuracy: 0.8800 - val_loss: 0.0889 - val_accuracy: 0.9333\n",
            "Epoch 49/50\n",
            "25/25 - 6s - loss: 0.1719 - accuracy: 0.9467 - val_loss: 0.0464 - val_accuracy: 1.0000\n",
            "Epoch 50/50\n",
            "25/25 - 6s - loss: 0.0552 - accuracy: 0.9867 - val_loss: 0.0825 - val_accuracy: 1.0000\n"
          ],
          "name": "stdout"
        },
        {
          "output_type": "execute_result",
          "data": {
            "text/plain": [
              "<tensorflow.python.keras.callbacks.History at 0x7fe5a569fb70>"
            ]
          },
          "metadata": {
            "tags": []
          },
          "execution_count": 175
        }
      ]
    },
    {
      "cell_type": "code",
      "metadata": {
        "id": "9ntwa_ntbZw_",
        "colab_type": "code",
        "colab": {
          "resources": {
            "http://localhost:8080/nbextensions/google.colab/files.js": {
              "data": "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",
              "ok": true,
              "headers": [
                [
                  "content-type",
                  "application/javascript"
                ]
              ],
              "status": 200,
              "status_text": ""
            }
          },
          "base_uri": "https://localhost:8080/",
          "height": 795
        },
        "outputId": "cf7360a1-2197-4b00-dc5b-c4dd3b9e1b87"
      },
      "source": [
        "# melakukan resize gambar dan mengubahnya menjadi larik numpy\n",
        "import numpy as np\n",
        "from google.colab import files\n",
        "from keras.preprocessing import image\n",
        "import matplotlib.pyplot as plt\n",
        "import matplotlib.image as mpimg\n",
        "import matplotlib.pyplot as plt\n",
        "import matplotlib.image as mpimg\n",
        "%matplotlib inline\n",
        "\n",
        "uploaded = files.upload()\n",
        "\n",
        "for fn in uploaded.keys():\n",
        " \n",
        "# memprediksi gambar \n",
        "  path = fn\n",
        "  img = image.load_img(path, target_size=(150,150))\n",
        "  imgplot = plt.imshow(img)\n",
        "  x = image.img_to_array(img)\n",
        "  x = np.expand_dims(x, axis=0)\n",
        "\n",
        "  images = np.vstack([x])\n",
        "  classes = model.predict(images, batch_size=10)\n",
        "  print(classes)\n",
        "  print(fn)\n",
        "  if classes[0][0]==1:\n",
        "    print('paper')\n",
        "  elif classes[0][1]==1:\n",
        "    print('rock')\n",
        "  else:\n",
        "    print('scissors')"
      ],
      "execution_count": 176,
      "outputs": [
        {
          "output_type": "display_data",
          "data": {
            "text/html": [
              "\n",
              "     <input type=\"file\" id=\"files-b14bc14b-3482-4a5b-ab76-6d8f39632594\" name=\"files[]\" multiple disabled\n",
              "        style=\"border:none\" />\n",
              "     <output id=\"result-b14bc14b-3482-4a5b-ab76-6d8f39632594\">\n",
              "      Upload widget is only available when the cell has been executed in the\n",
              "      current browser session. Please rerun this cell to enable.\n",
              "      </output>\n",
              "      <script src=\"/nbextensions/google.colab/files.js\"></script> "
            ],
            "text/plain": [
              "<IPython.core.display.HTML object>"
            ]
          },
          "metadata": {
            "tags": []
          }
        },
        {
          "output_type": "stream",
          "text": [
            "Saving 3k7WrSAInCaatFtl.png to 3k7WrSAInCaatFtl.png\n",
            "Saving 3kVoftgTNdDcvPPY.png to 3kVoftgTNdDcvPPY.png\n",
            "Saving 4aWP3XumkgwZtqZ7.png to 4aWP3XumkgwZtqZ7.png\n",
            "Saving 4burI8a7jyfTRBl6.png to 4burI8a7jyfTRBl6.png\n",
            "Saving 4Pir885YNPXiRs0R.png to 4Pir885YNPXiRs0R.png\n",
            "Saving 4QtEaLUAuzeJZKdK.png to 4QtEaLUAuzeJZKdK.png\n",
            "[[0. 1. 0.]]\n",
            "3k7WrSAInCaatFtl.png\n",
            "rock\n",
            "[[0. 0. 1.]]\n",
            "3kVoftgTNdDcvPPY.png\n",
            "scissors\n",
            "[[1. 0. 0.]]\n",
            "4aWP3XumkgwZtqZ7.png\n",
            "paper\n",
            "[[0. 0. 1.]]\n",
            "4burI8a7jyfTRBl6.png\n",
            "scissors\n",
            "[[1. 0. 0.]]\n",
            "4Pir885YNPXiRs0R.png\n",
            "paper\n",
            "[[0. 1. 0.]]\n",
            "4QtEaLUAuzeJZKdK.png\n",
            "rock\n"
          ],
          "name": "stdout"
        },
        {
          "output_type": "display_data",
          "data": {
            "image/png": "[encoded data removed]",
            "text/plain": [
              "<Figure size 432x288 with 1 Axes>"
            ]
          },
          "metadata": {
            "tags": [],
            "needs_background": "light"
          }
        }
      ]
    }
  ]
}